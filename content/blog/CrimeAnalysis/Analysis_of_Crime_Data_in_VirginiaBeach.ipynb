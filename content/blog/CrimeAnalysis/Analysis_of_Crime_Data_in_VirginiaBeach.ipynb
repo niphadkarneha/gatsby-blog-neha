{
 "cells": [
  {
   "cell_type": "markdown",
   "metadata": {},
   "source": [
    "## Crime Statistics for Virginia Beach.\n",
    "\n",
    "The goal of this mini project was to analyze the crime records for the City of Virginia Beach and in doing so use tools that I have never used before. Data analysis often highlights information gaps, the strengths, the weakness, and pinpoints the way forward. \n",
    "\n",
    "\n",
    "#### 1. Data Collection\n",
    "Data was sourced from the City of Virginia Beach website: https://data.vbgov.com/Public-Safety/Police-Incident-Reports/iqkq-gr5p and was saved in a csv file.\n",
    "\n",
    "#### 2. Low-Fidelity prototype\n",
    "Before I dive into data; I normally ask myself, \"What is that I want to achieve with this dataset?\". I relate this process to Lo-Fi prototyping which I learned as a Master's student in my [Mobile App development](https://www.cs.odu.edu/~jain/CS441-S19/index.html) class. Similar principles can be applied here. With the crime statistics data, I wrote down a few basic questions that I hope would be answered.\n",
    "\n",
    "+ What are the different types of crimes reported?\n",
    "+ How many instances of these crimes are reported?\n",
    "+ Has the crime rate increased, decreased, or stablized over a period of time?\n",
    "+ How many crimes were commited in 2019?\n",
    "+ What month showcase the highest instance of crime rate?\n",
    "+ Lastly, which area or neighbourhood is most affected by crime?\n",
    "\n",
    "#### 3. Data preprocessing\n",
    "Often considered tedious and boring, this is where most of the learning takes place. If you get this step right, there are a lot of fun things you can do with your data. First step in preprocessing is identifying the libraries that one would need and it is coorelated with Step 2. of Lo-Fi prototyping. \n",
    "\n",
    "If you know what you want from your data, you can determine the libraries you need to get it done."
   ]
  },
  {
   "cell_type": "code",
   "execution_count": 1,
   "metadata": {},
   "outputs": [],
   "source": [
    "import pandas as pd\n",
    "import numpy as np\n",
    "import seaborn as sns\n",
    "import matplotlib.pyplot as plt\n",
    "from datetime import datetime\n",
    "%matplotlib inline"
   ]
  },
  {
   "cell_type": "markdown",
   "metadata": {},
   "source": [
    "Now that we have imported the essential modules. Let's use the pandas built in function to read a csv file into a dataframe. This dataframe will help us see the content of the csv file. "
   ]
  },
  {
   "cell_type": "code",
   "execution_count": 2,
   "metadata": {},
   "outputs": [
    {
     "data": {
      "text/html": [
       "<div>\n",
       "<style scoped>\n",
       "    .dataframe tbody tr th:only-of-type {\n",
       "        vertical-align: middle;\n",
       "    }\n",
       "\n",
       "    .dataframe tbody tr th {\n",
       "        vertical-align: top;\n",
       "    }\n",
       "\n",
       "    .dataframe thead th {\n",
       "        text-align: right;\n",
       "    }\n",
       "</style>\n",
       "<table border=\"1\" class=\"dataframe\">\n",
       "  <thead>\n",
       "    <tr style=\"text-align: right;\">\n",
       "      <th></th>\n",
       "      <th>Unnamed: 0</th>\n",
       "      <th>Police Case Number</th>\n",
       "      <th>Date Reported</th>\n",
       "      <th>Date Occured</th>\n",
       "      <th>Date Found</th>\n",
       "      <th>Offense Code</th>\n",
       "      <th>Offense Description</th>\n",
       "      <th>Subdivision</th>\n",
       "      <th>Zone ID</th>\n",
       "      <th>Case Status</th>\n",
       "      <th>Location</th>\n",
       "      <th>lat</th>\n",
       "      <th>lon</th>\n",
       "    </tr>\n",
       "  </thead>\n",
       "  <tbody>\n",
       "    <tr>\n",
       "      <th>0</th>\n",
       "      <td>75299</td>\n",
       "      <td>2018027541</td>\n",
       "      <td>07/20/2018 12:15:00 PM</td>\n",
       "      <td>03/26/2018 5:17:00 PM</td>\n",
       "      <td>03/26/2018 5:17:00 PM</td>\n",
       "      <td>26A7</td>\n",
       "      <td>FRAUD, IDENTITY THEFT</td>\n",
       "      <td>BAYSIDE BOROUGH</td>\n",
       "      <td>328.0</td>\n",
       "      <td>OTHER</td>\n",
       "      <td>WITCHDUCK RD N/INDEPENDENCE BL\\nVIRGINIA BEACH...</td>\n",
       "      <td>36.876148</td>\n",
       "      <td>-76.133802</td>\n",
       "    </tr>\n",
       "    <tr>\n",
       "      <th>1</th>\n",
       "      <td>99283</td>\n",
       "      <td>2019019440</td>\n",
       "      <td>05/28/2019 6:25:00 PM</td>\n",
       "      <td>05/28/2019 6:25:00 PM</td>\n",
       "      <td>05/28/2019 6:25:00 PM</td>\n",
       "      <td>90ZK</td>\n",
       "      <td>OVERDOSE</td>\n",
       "      <td>BAYSIDE BOROUGH</td>\n",
       "      <td>328.0</td>\n",
       "      <td>OTHER</td>\n",
       "      <td>WITCHDUCK RD N/INDEPENDENCE BL\\nVIRGINIA BEACH...</td>\n",
       "      <td>36.876148</td>\n",
       "      <td>-76.133802</td>\n",
       "    </tr>\n",
       "    <tr>\n",
       "      <th>2</th>\n",
       "      <td>1697</td>\n",
       "      <td>2016031822</td>\n",
       "      <td>08/02/2016 2:58:00 AM</td>\n",
       "      <td>08/02/2016 2:57:00 AM</td>\n",
       "      <td>08/02/2016 2:58:00 AM</td>\n",
       "      <td>35A1</td>\n",
       "      <td>DRUG/ NARCOTIC VIOLATIONS</td>\n",
       "      <td>NaN</td>\n",
       "      <td>325.0</td>\n",
       "      <td>CLEARED BY ARREST</td>\n",
       "      <td>WITCHDUCK RD N/264 NO\\nVIRGINIA BEACH, VA</td>\n",
       "      <td>36.844373</td>\n",
       "      <td>-76.156683</td>\n",
       "    </tr>\n",
       "    <tr>\n",
       "      <th>3</th>\n",
       "      <td>17858</td>\n",
       "      <td>2016014880</td>\n",
       "      <td>04/18/2016 1:00:00 AM</td>\n",
       "      <td>04/17/2016 12:59:00 AM</td>\n",
       "      <td>04/17/2016 12:59:00 AM</td>\n",
       "      <td>520B</td>\n",
       "      <td>WEAPON LAW, CONCEALED WEAPON(S)</td>\n",
       "      <td>GREEN RUN</td>\n",
       "      <td>128.0</td>\n",
       "      <td>CLEARED BY ARREST</td>\n",
       "      <td>WEEPING WILLOW LA/LYNNHAVEN PW\\nVIRGINIA BEACH...</td>\n",
       "      <td>36.798407</td>\n",
       "      <td>-76.086839</td>\n",
       "    </tr>\n",
       "    <tr>\n",
       "      <th>4</th>\n",
       "      <td>24107</td>\n",
       "      <td>2017005324</td>\n",
       "      <td>02/12/2017 1:30:00 PM</td>\n",
       "      <td>02/12/2017 1:00:00 PM</td>\n",
       "      <td>02/12/2017 1:00:00 PM</td>\n",
       "      <td>90ZC</td>\n",
       "      <td>HIT &amp; RUN</td>\n",
       "      <td>HILLTOP</td>\n",
       "      <td>226.0</td>\n",
       "      <td>CLEARED BY ARREST</td>\n",
       "      <td>WATERFRONT DR/BIRDNECK RD N\\nVIRGINIA BEACH, VA</td>\n",
       "      <td>36.850379</td>\n",
       "      <td>-75.994368</td>\n",
       "    </tr>\n",
       "  </tbody>\n",
       "</table>\n",
       "</div>"
      ],
      "text/plain": [
       "   Unnamed: 0  Police Case Number           Date Reported  \\\n",
       "0       75299          2018027541  07/20/2018 12:15:00 PM   \n",
       "1       99283          2019019440   05/28/2019 6:25:00 PM   \n",
       "2        1697          2016031822   08/02/2016 2:58:00 AM   \n",
       "3       17858          2016014880   04/18/2016 1:00:00 AM   \n",
       "4       24107          2017005324   02/12/2017 1:30:00 PM   \n",
       "\n",
       "             Date Occured              Date Found Offense Code  \\\n",
       "0   03/26/2018 5:17:00 PM   03/26/2018 5:17:00 PM         26A7   \n",
       "1   05/28/2019 6:25:00 PM   05/28/2019 6:25:00 PM         90ZK   \n",
       "2   08/02/2016 2:57:00 AM   08/02/2016 2:58:00 AM         35A1   \n",
       "3  04/17/2016 12:59:00 AM  04/17/2016 12:59:00 AM         520B   \n",
       "4   02/12/2017 1:00:00 PM   02/12/2017 1:00:00 PM         90ZC   \n",
       "\n",
       "               Offense Description      Subdivision  Zone ID  \\\n",
       "0            FRAUD, IDENTITY THEFT  BAYSIDE BOROUGH    328.0   \n",
       "1                         OVERDOSE  BAYSIDE BOROUGH    328.0   \n",
       "2        DRUG/ NARCOTIC VIOLATIONS              NaN    325.0   \n",
       "3  WEAPON LAW, CONCEALED WEAPON(S)        GREEN RUN    128.0   \n",
       "4                        HIT & RUN          HILLTOP    226.0   \n",
       "\n",
       "         Case Status                                           Location  \\\n",
       "0              OTHER  WITCHDUCK RD N/INDEPENDENCE BL\\nVIRGINIA BEACH...   \n",
       "1              OTHER  WITCHDUCK RD N/INDEPENDENCE BL\\nVIRGINIA BEACH...   \n",
       "2  CLEARED BY ARREST          WITCHDUCK RD N/264 NO\\nVIRGINIA BEACH, VA   \n",
       "3  CLEARED BY ARREST  WEEPING WILLOW LA/LYNNHAVEN PW\\nVIRGINIA BEACH...   \n",
       "4  CLEARED BY ARREST    WATERFRONT DR/BIRDNECK RD N\\nVIRGINIA BEACH, VA   \n",
       "\n",
       "         lat        lon  \n",
       "0  36.876148 -76.133802  \n",
       "1  36.876148 -76.133802  \n",
       "2  36.844373 -76.156683  \n",
       "3  36.798407 -76.086839  \n",
       "4  36.850379 -75.994368  "
      ]
     },
     "execution_count": 2,
     "metadata": {},
     "output_type": "execute_result"
    }
   ],
   "source": [
    "#reading a csv file\n",
    "file = pd.read_csv(\"./file.csv\", encoding=\"unicode_escape\")\n",
    "#displaying the columns and the first five rows\n",
    "file.head()\n",
    "#in order to display the end of the file, you can use file.tail()"
   ]
  },
  {
   "cell_type": "markdown",
   "metadata": {},
   "source": [
    "\n",
    "\n",
    "Let's look at the column names first and see which of these need to be changed. This is done in order to make sure the data is more readable by Python. I see there are two columns that I want to focus on for the purpose of this sample project i.e. Date Reported and Offense Description"
   ]
  },
  {
   "cell_type": "code",
   "execution_count": 3,
   "metadata": {},
   "outputs": [
    {
     "data": {
      "text/plain": [
       "Index(['Unnamed: 0', 'Police Case Number', 'Date Reported', 'Date Occured',\n",
       "       'Date Found', 'Offense Code', 'Offense Description', 'Subdivision',\n",
       "       'Zone ID', 'Case Status', 'Location', 'lat', 'lon'],\n",
       "      dtype='object')"
      ]
     },
     "execution_count": 3,
     "metadata": {},
     "output_type": "execute_result"
    }
   ],
   "source": [
    "#Display the names of the columns\n",
    "file.columns"
   ]
  },
  {
   "cell_type": "code",
   "execution_count": 4,
   "metadata": {},
   "outputs": [
    {
     "data": {
      "text/plain": [
       "Index(['Unnamed: 0', 'Police Case Number', 'Date_Reported', 'Date Occured',\n",
       "       'Date Found', 'Offense Code', 'Offense_Description', 'Subdivision',\n",
       "       'Zone ID', 'Case Status', 'Location', 'lat', 'lon'],\n",
       "      dtype='object')"
      ]
     },
     "execution_count": 4,
     "metadata": {},
     "output_type": "execute_result"
    }
   ],
   "source": [
    "#Rename the columns\n",
    "file = file.rename(columns = {\"Date Reported\": \"Date_Reported\", \"Offense Description\": \"Offense_Description\"})\n",
    "\n",
    "#Display the new names of the columns.\n",
    "file.columns"
   ]
  },
  {
   "cell_type": "markdown",
   "metadata": {},
   "source": [
    "Next, I want to add a new column in the csv file called, \"Year\" so that it will be easier for me visualize some of the trends over the years."
   ]
  },
  {
   "cell_type": "code",
   "execution_count": 5,
   "metadata": {},
   "outputs": [],
   "source": [
    "# pandas .insert function will do the trick. We have to specify the place of the new column, the name,\n",
    "# and the value it will hold.\n",
    "file.insert(3, 'Year', 'Any')"
   ]
  },
  {
   "cell_type": "code",
   "execution_count": 6,
   "metadata": {},
   "outputs": [
    {
     "data": {
      "text/html": [
       "<div>\n",
       "<style scoped>\n",
       "    .dataframe tbody tr th:only-of-type {\n",
       "        vertical-align: middle;\n",
       "    }\n",
       "\n",
       "    .dataframe tbody tr th {\n",
       "        vertical-align: top;\n",
       "    }\n",
       "\n",
       "    .dataframe thead th {\n",
       "        text-align: right;\n",
       "    }\n",
       "</style>\n",
       "<table border=\"1\" class=\"dataframe\">\n",
       "  <thead>\n",
       "    <tr style=\"text-align: right;\">\n",
       "      <th></th>\n",
       "      <th>Unnamed: 0</th>\n",
       "      <th>Police Case Number</th>\n",
       "      <th>Date_Reported</th>\n",
       "      <th>Year</th>\n",
       "      <th>Date Occured</th>\n",
       "      <th>Date Found</th>\n",
       "      <th>Offense Code</th>\n",
       "      <th>Offense_Description</th>\n",
       "      <th>Subdivision</th>\n",
       "      <th>Zone ID</th>\n",
       "      <th>Case Status</th>\n",
       "      <th>Location</th>\n",
       "      <th>lat</th>\n",
       "      <th>lon</th>\n",
       "    </tr>\n",
       "  </thead>\n",
       "  <tbody>\n",
       "    <tr>\n",
       "      <th>0</th>\n",
       "      <td>75299</td>\n",
       "      <td>2018027541</td>\n",
       "      <td>07/20/2018 12:15:00 PM</td>\n",
       "      <td>2018</td>\n",
       "      <td>03/26/2018 5:17:00 PM</td>\n",
       "      <td>03/26/2018 5:17:00 PM</td>\n",
       "      <td>26A7</td>\n",
       "      <td>FRAUD, IDENTITY THEFT</td>\n",
       "      <td>BAYSIDE BOROUGH</td>\n",
       "      <td>328.0</td>\n",
       "      <td>OTHER</td>\n",
       "      <td>WITCHDUCK RD N/INDEPENDENCE BL\\nVIRGINIA BEACH...</td>\n",
       "      <td>36.876148</td>\n",
       "      <td>-76.133802</td>\n",
       "    </tr>\n",
       "    <tr>\n",
       "      <th>1</th>\n",
       "      <td>99283</td>\n",
       "      <td>2019019440</td>\n",
       "      <td>05/28/2019 6:25:00 PM</td>\n",
       "      <td>2019</td>\n",
       "      <td>05/28/2019 6:25:00 PM</td>\n",
       "      <td>05/28/2019 6:25:00 PM</td>\n",
       "      <td>90ZK</td>\n",
       "      <td>OVERDOSE</td>\n",
       "      <td>BAYSIDE BOROUGH</td>\n",
       "      <td>328.0</td>\n",
       "      <td>OTHER</td>\n",
       "      <td>WITCHDUCK RD N/INDEPENDENCE BL\\nVIRGINIA BEACH...</td>\n",
       "      <td>36.876148</td>\n",
       "      <td>-76.133802</td>\n",
       "    </tr>\n",
       "    <tr>\n",
       "      <th>2</th>\n",
       "      <td>1697</td>\n",
       "      <td>2016031822</td>\n",
       "      <td>08/02/2016 2:58:00 AM</td>\n",
       "      <td>2016</td>\n",
       "      <td>08/02/2016 2:57:00 AM</td>\n",
       "      <td>08/02/2016 2:58:00 AM</td>\n",
       "      <td>35A1</td>\n",
       "      <td>DRUG/ NARCOTIC VIOLATIONS</td>\n",
       "      <td>NaN</td>\n",
       "      <td>325.0</td>\n",
       "      <td>CLEARED BY ARREST</td>\n",
       "      <td>WITCHDUCK RD N/264 NO\\nVIRGINIA BEACH, VA</td>\n",
       "      <td>36.844373</td>\n",
       "      <td>-76.156683</td>\n",
       "    </tr>\n",
       "    <tr>\n",
       "      <th>3</th>\n",
       "      <td>17858</td>\n",
       "      <td>2016014880</td>\n",
       "      <td>04/18/2016 1:00:00 AM</td>\n",
       "      <td>2016</td>\n",
       "      <td>04/17/2016 12:59:00 AM</td>\n",
       "      <td>04/17/2016 12:59:00 AM</td>\n",
       "      <td>520B</td>\n",
       "      <td>WEAPON LAW, CONCEALED WEAPON(S)</td>\n",
       "      <td>GREEN RUN</td>\n",
       "      <td>128.0</td>\n",
       "      <td>CLEARED BY ARREST</td>\n",
       "      <td>WEEPING WILLOW LA/LYNNHAVEN PW\\nVIRGINIA BEACH...</td>\n",
       "      <td>36.798407</td>\n",
       "      <td>-76.086839</td>\n",
       "    </tr>\n",
       "    <tr>\n",
       "      <th>4</th>\n",
       "      <td>24107</td>\n",
       "      <td>2017005324</td>\n",
       "      <td>02/12/2017 1:30:00 PM</td>\n",
       "      <td>2017</td>\n",
       "      <td>02/12/2017 1:00:00 PM</td>\n",
       "      <td>02/12/2017 1:00:00 PM</td>\n",
       "      <td>90ZC</td>\n",
       "      <td>HIT &amp; RUN</td>\n",
       "      <td>HILLTOP</td>\n",
       "      <td>226.0</td>\n",
       "      <td>CLEARED BY ARREST</td>\n",
       "      <td>WATERFRONT DR/BIRDNECK RD N\\nVIRGINIA BEACH, VA</td>\n",
       "      <td>36.850379</td>\n",
       "      <td>-75.994368</td>\n",
       "    </tr>\n",
       "  </tbody>\n",
       "</table>\n",
       "</div>"
      ],
      "text/plain": [
       "   Unnamed: 0  Police Case Number           Date_Reported  Year  \\\n",
       "0       75299          2018027541  07/20/2018 12:15:00 PM  2018   \n",
       "1       99283          2019019440   05/28/2019 6:25:00 PM  2019   \n",
       "2        1697          2016031822   08/02/2016 2:58:00 AM  2016   \n",
       "3       17858          2016014880   04/18/2016 1:00:00 AM  2016   \n",
       "4       24107          2017005324   02/12/2017 1:30:00 PM  2017   \n",
       "\n",
       "             Date Occured              Date Found Offense Code  \\\n",
       "0   03/26/2018 5:17:00 PM   03/26/2018 5:17:00 PM         26A7   \n",
       "1   05/28/2019 6:25:00 PM   05/28/2019 6:25:00 PM         90ZK   \n",
       "2   08/02/2016 2:57:00 AM   08/02/2016 2:58:00 AM         35A1   \n",
       "3  04/17/2016 12:59:00 AM  04/17/2016 12:59:00 AM         520B   \n",
       "4   02/12/2017 1:00:00 PM   02/12/2017 1:00:00 PM         90ZC   \n",
       "\n",
       "               Offense_Description      Subdivision  Zone ID  \\\n",
       "0            FRAUD, IDENTITY THEFT  BAYSIDE BOROUGH    328.0   \n",
       "1                         OVERDOSE  BAYSIDE BOROUGH    328.0   \n",
       "2        DRUG/ NARCOTIC VIOLATIONS              NaN    325.0   \n",
       "3  WEAPON LAW, CONCEALED WEAPON(S)        GREEN RUN    128.0   \n",
       "4                        HIT & RUN          HILLTOP    226.0   \n",
       "\n",
       "         Case Status                                           Location  \\\n",
       "0              OTHER  WITCHDUCK RD N/INDEPENDENCE BL\\nVIRGINIA BEACH...   \n",
       "1              OTHER  WITCHDUCK RD N/INDEPENDENCE BL\\nVIRGINIA BEACH...   \n",
       "2  CLEARED BY ARREST          WITCHDUCK RD N/264 NO\\nVIRGINIA BEACH, VA   \n",
       "3  CLEARED BY ARREST  WEEPING WILLOW LA/LYNNHAVEN PW\\nVIRGINIA BEACH...   \n",
       "4  CLEARED BY ARREST    WATERFRONT DR/BIRDNECK RD N\\nVIRGINIA BEACH, VA   \n",
       "\n",
       "         lat        lon  \n",
       "0  36.876148 -76.133802  \n",
       "1  36.876148 -76.133802  \n",
       "2  36.844373 -76.156683  \n",
       "3  36.798407 -76.086839  \n",
       "4  36.850379 -75.994368  "
      ]
     },
     "execution_count": 6,
     "metadata": {},
     "output_type": "execute_result"
    }
   ],
   "source": [
    "# pandas datetime index will help us extract the year from the Date_Reported Column and .head() will display\n",
    "# the changes we made.\n",
    "file['Year'] = pd.DatetimeIndex(file['Date_Reported']).year\n",
    "file.head()"
   ]
  },
  {
   "cell_type": "code",
   "execution_count": 7,
   "metadata": {},
   "outputs": [
    {
     "data": {
      "text/plain": [
       "<matplotlib.axes._subplots.AxesSubplot at 0x1a172df358>"
      ]
     },
     "execution_count": 7,
     "metadata": {},
     "output_type": "execute_result"
    },
    {
     "data": {
      "image/png": "[encoded data removed]",
      "text/plain": [
       "<Figure size 432x288 with 1 Axes>"
      ]
     },
     "metadata": {
      "needs_background": "light"
     },
     "output_type": "display_data"
    }
   ],
   "source": [
    "#Seaborn is a data visualization library built on Matplotlib. I love\n",
    "# that you can create simple count plots in a few lines of codes. Here's one below\n",
    "\n",
    "crime = file.drop(columns='Offense_Description')\n",
    "crime = file.dropna(axis=0)\n",
    "sns.countplot(data=crime, x='Year')"
   ]
  },
  {
   "cell_type": "code",
   "execution_count": 8,
   "metadata": {},
   "outputs": [
    {
     "name": "stdout",
     "output_type": "stream",
     "text": [
      "There are 129 types of crimes in this dataset\n"
     ]
    }
   ],
   "source": [
    "# In the column name, \"Offense_Description\" we see a lot of different categories or names of crimes. Let's\n",
    "# see how many kinds there are\n",
    "\n",
    "print('There are {} types of crimes in this dataset'.format(len(set(crime['Offense_Description']))))"
   ]
  },
  {
   "cell_type": "code",
   "execution_count": 9,
   "metadata": {},
   "outputs": [
    {
     "data": {
      "text/plain": [
       "array(['FRAUD, IDENTITY THEFT', 'OVERDOSE', 'DRUG/ NARCOTIC VIOLATIONS',\n",
       "       'WEAPON LAW, CONCEALED WEAPON(S)', 'HIT & RUN',\n",
       "       'WEAPON LAW VIOLATIONS', 'LARCENY, ALL OTHERS', 'ASSAULT, SIMPLE',\n",
       "       'ALL OTHER REPORTABLE OFFENSES', 'INTIMIDATION', 'ARSON',\n",
       "       'BOMB THREATS', 'DESTRUCTION OF PROPERTY, PRIVATE PROPERTY',\n",
       "       'DRUG/ EQUIPMENT VIOLATIONS', 'MOTOR VEHICLE THEFT',\n",
       "       'RECOVERED VEHICLE- STOLEN OTHER JURISDICTION',\n",
       "       'CRUELTY TO ANIMALS', 'FUGITIVE (OUT OF STATE)',\n",
       "       'WEAPON LAW, SHOOTING IN A VEHICLE', 'ASSAULT, SIMPLE, DOMESTIC',\n",
       "       'THREATEN BODILY HARM', 'LARCENY, FROM MOTOR VEHICLE',\n",
       "       'UNAUTHORIZED USE OF AUTO', 'OBSTRUCTING JUSTICE',\n",
       "       'ANNOYING PHONE CALLS/ HARASSING COMMUNICATION',\n",
       "       'LARCENY, SHOPLIFTING', 'EMBEZZLEMENT', 'ROBBERY',\n",
       "       'COUNTERFEITING/ FORGERY, ALL OTHERS', 'LARCENY, FROM BUILDING',\n",
       "       'BURGLARY/ B & E, COMMERCIAL', 'FRAUD, ALL OTHERS',\n",
       "       'LIQUOR LAW VIOLATIONS', 'FALSE INFORMATION TO POLICE',\n",
       "       'FRAUD, CREDIT CARD', 'LARCENY, WATERCRAFT',\n",
       "       'TRESPASS OF REAL PROPERTY', 'FRAUD, TRICK, FALSE PRETENSES',\n",
       "       'LARCENY, PURSE SNATCHING', 'BURGLARY/ B & E, RESIDENTIAL',\n",
       "       'INDECENT EXPOSURE', 'DISTURBING THE PEACE', 'BAD CHECKS',\n",
       "       'DESTRUCTION OF PROPERTY, CITY - GRAFFITI',\n",
       "       'PORNOGRAPHY/ OBSCENE MATERIAL',\n",
       "       'FAMILY OFFENSE, NONVIOLENT, CHILD ABUSE',\n",
       "       'WEAPON LAW, DISCHARGE FIREARM IN DWELLING',\n",
       "       'ABDUCTION/ KIDNAPPING', 'FORCIBLE INDECENT LIBERTIES',\n",
       "       'FORCIBLE RAPE', 'ASSAULT, AGGRAVATED', 'FORGERY BY CHECK',\n",
       "       'TAMPERING WITH AUTO', 'ASSAULT, AGGRAVATED, DOMESTIC',\n",
       "       'DESTRUCTION OF PROPERTY, CITY PROPERTY',\n",
       "       'OBSCENE PHONE CALL/ COMMUNICATION', 'BRIBERY',\n",
       "       'FAMILY OFFENSE, NONVIOLENT, CONTRIBUTE TO DELINQUENCY OF MIN',\n",
       "       'VIOLATE PROTECTIVE ORDER', 'DRIVING UNDER THE INFLUENCE, ALCOHOL',\n",
       "       'ROBBERY, CARJACKING', 'SEXUAL BATTERY', 'EXTORTION',\n",
       "       'LARCENY, POCKET PICKING', 'STALKING', 'FRAUD, USE FALSE NAME',\n",
       "       'MAIMING', 'FORCIBLE SODOMY', 'STOLEN PROPERTY OFFENSES',\n",
       "       'FRAUD, BY PRESCRIPTION',\n",
       "       'DESTRUCTION OF PROPERTY, PRIVATE - GRAFFITI',\n",
       "       'CONCEALMENT/ PRICE CHANGING', 'FRAUD, INNKEEPER',\n",
       "       'LARCENY, TAMPERING WITH U.S. MAIL', 'GLUE-SNIFFING',\n",
       "       'THROWING OBJECT AT MOVING VEHICLE',\n",
       "       'CONSPIRACY TO COMMIT GROUP A OFFENSE', 'FRAUD, FLIM- FLAM',\n",
       "       'CURSING/ OBSCENE LANGUAGE', 'FRAUD, WELFARE',\n",
       "       'FAMILY OFFENSE, NONVIOLENT, CHILD NEGLECT', 'DRUNKENNESS',\n",
       "       'DISORDERLY CONDUCT', 'THREATEN TO BURN', 'FRAUD, E-COMMERCE',\n",
       "       'IMMORAL CONDUCT', 'CURFEW', 'MURDER/ NONNEGLIGENT MANSLAUGHTER',\n",
       "       'LARCENY,OF M.V. PARTS OR ACCESSORIES', 'WEAPON LAW, EXPLOSIVES',\n",
       "       'FAMILY OFFENSE, NONVIOLENT, CHILD ENDANGERMENT',\n",
       "       'DRIVING UNDER THE INFLUENCE, DRUGS', 'PEEPING TOM', 'ENTICEMENT',\n",
       "       'LARCENY, FROM COIN-OP.MACHINE OR DEVICE',\n",
       "       'FRAUD, AUTOMATIC TELLER', 'FRAUD, WIRE',\n",
       "       'IMPERSONATION/ IMPERSONATE POLICE OFFICER',\n",
       "       'FORGERY BY PERSCRIPTION', 'MOLESTING',\n",
       "       'ASSAULT, AGGRAVATED/ ATMP MURDER',\n",
       "       'ASSISTING OR PROMOTING PROSTITUTION (PANDERING OR PROCURING)',\n",
       "       'AUTO FATALITY, NEGLIGENT', 'FORGERY BY CREDIT CARD',\n",
       "       'PROSTITUTION & COMMERCIALIZED VICE', 'ESCAPE FROM CUSTODY',\n",
       "       'FORCIBLE FONDLING', 'FALSE ALARM', 'CRIMES AGAINST NATURE',\n",
       "       'SEXUAL ASSAULT WITH AN OBJECT', 'FORGERY BY MONEY ORDER',\n",
       "       'STATUTORY RAPE/ CARNAL KNOWLEDGE', 'WEAPON LAW, FIRE BOMB',\n",
       "       'LOITERING', 'LITTERING', 'BOOKMAKING/ NUMBERS',\n",
       "       'POSSESSION OF BURGLARY TOOLS', 'FREQUENTING DISORDERLY HOUSE',\n",
       "       'FAILURE TO RETURN RENTED PROPERTY', 'ALTERING STATE TAGS',\n",
       "       'INTERFERING W/ DUTIES OF POLICE OFFICER', 'ROBBERY, ATM',\n",
       "       'INCEST', 'CONSPIRACY TO COMMIT GROUP B OFFENSE',\n",
       "       'JUSTIFIABLE HOMICIDE', 'PERJURY', 'VAGRANCY/ BEGGING',\n",
       "       'ORGANIZED DOG FIGHTING', 'WEAPON LAW, BOMBINGS'], dtype=object)"
      ]
     },
     "execution_count": 9,
     "metadata": {},
     "output_type": "execute_result"
    }
   ],
   "source": [
    "file['Offense_Description'].unique()"
   ]
  },
  {
   "cell_type": "code",
   "execution_count": 10,
   "metadata": {},
   "outputs": [
    {
     "data": {
      "text/plain": [
       "LARCENY, FROM MOTOR VEHICLE                  10974\n",
       "DESTRUCTION OF PROPERTY, PRIVATE PROPERTY    10164\n",
       "HIT & RUN                                     9184\n",
       "ASSAULT, SIMPLE                               8829\n",
       "LARCENY, ALL OTHERS                           7590\n",
       "DRUG/ NARCOTIC VIOLATIONS                     7354\n",
       "ASSAULT, SIMPLE, DOMESTIC                     6619\n",
       "LARCENY, SHOPLIFTING                          5621\n",
       "LARCENY, FROM BUILDING                        3485\n",
       "DRUG/ EQUIPMENT VIOLATIONS                    3015\n",
       "Name: Offense_Description, dtype: int64"
      ]
     },
     "execution_count": 10,
     "metadata": {},
     "output_type": "execute_result"
    }
   ],
   "source": [
    "# Let's look at the top 10\n",
    "\n",
    "file.Offense_Description.value_counts().head(10)"
   ]
  },
  {
   "cell_type": "code",
   "execution_count": 11,
   "metadata": {},
   "outputs": [
    {
     "data": {
      "text/plain": [
       "HIT & RUN                                    1478\n",
       "LARCENY, FROM MOTOR VEHICLE                  1466\n",
       "ASSAULT, SIMPLE                              1298\n",
       "DESTRUCTION OF PROPERTY, PRIVATE PROPERTY    1224\n",
       "DRUG/ NARCOTIC VIOLATIONS                    1223\n",
       "ASSAULT, SIMPLE, DOMESTIC                    1134\n",
       "LARCENY, ALL OTHERS                          1124\n",
       "LARCENY, SHOPLIFTING                          788\n",
       "DRUG/ EQUIPMENT VIOLATIONS                    495\n",
       "LARCENY, FROM BUILDING                        421\n",
       "Name: Offense_Description, dtype: int64"
      ]
     },
     "execution_count": 11,
     "metadata": {},
     "output_type": "execute_result"
    }
   ],
   "source": [
    "#Now I want to focus on only the current year i.e. 2019 and look at the 10 highest categories of crime rates.\n",
    "\n",
    "file = file.loc[file['Year'].isin([2019])]\n",
    "file.Offense_Description.value_counts().head(10)"
   ]
  },
  {
   "cell_type": "code",
   "execution_count": 12,
   "metadata": {},
   "outputs": [
    {
     "data": {
      "text/plain": [
       "15270"
      ]
     },
     "execution_count": 12,
     "metadata": {},
     "output_type": "execute_result"
    }
   ],
   "source": [
    "file.Offense_Description.count()"
   ]
  },
  {
   "cell_type": "code",
   "execution_count": 13,
   "metadata": {},
   "outputs": [
    {
     "data": {
      "image/png": "[encoded data removed]",
      "text/plain": [
       "<Figure size 576x288 with 1 Axes>"
      ]
     },
     "metadata": {
      "needs_background": "light"
     },
     "output_type": "display_data"
    }
   ],
   "source": [
    "# Visualizing the first five.\n",
    "\n",
    "plt.subplots(figsize = (8,4))\n",
    "sns.barplot(file.Offense_Description.value_counts()[:5].index,file.Offense_Description.value_counts()[:5])\n",
    "plt.xticks(rotation = 90)\n",
    "plt.xlabel('Type of Assault')\n",
    "plt.ylabel('Number of Assault')\n",
    "plt.title('Crime Record in Virginia Beach')\n",
    "plt.show()"
   ]
  },
  {
   "cell_type": "code",
   "execution_count": 14,
   "metadata": {},
   "outputs": [
    {
     "data": {
      "text/plain": [
       "<matplotlib.axes._subplots.AxesSubplot at 0x1a176f1908>"
      ]
     },
     "execution_count": 14,
     "metadata": {},
     "output_type": "execute_result"
    },
    {
     "data": {
      "image/png": "[encoded data removed]",
      "text/plain": [
       "<Figure size 432x288 with 1 Axes>"
      ]
     },
     "metadata": {
      "needs_background": "light"
     },
     "output_type": "display_data"
    }
   ],
   "source": [
    "# Using the datetime index like earlier we can see the distribution month wise. Visualizing it in simple bar\n",
    "# graphs tell us that the highest crime count was for the 5th month i.e. May.\n",
    "\n",
    "file.insert(4,\"Month\",\"Any\")\n",
    "file['Month'] = pd.DatetimeIndex(file['Date_Reported']).month\n",
    "file.head()\n",
    "sns.countplot(data=file, x='Month')"
   ]
  },
  {
   "cell_type": "code",
   "execution_count": 15,
   "metadata": {},
   "outputs": [
    {
     "data": {
      "text/plain": [
       "<matplotlib.axes._subplots.AxesSubplot at 0x1a177fbd30>"
      ]
     },
     "execution_count": 15,
     "metadata": {},
     "output_type": "execute_result"
    },
    {
     "data": {
      "image/png": "[encoded data removed]",
      "text/plain": [
       "<Figure size 432x288 with 1 Axes>"
      ]
     },
     "metadata": {
      "needs_background": "light"
     },
     "output_type": "display_data"
    }
   ],
   "source": [
    "file.insert(5,\"Day\",\"Any\")\n",
    "file['Day'] = pd.DatetimeIndex(file['Date_Reported']).day\n",
    "file.head()\n",
    "sns.countplot(data=file, x='Day')"
   ]
  },
  {
   "cell_type": "code",
   "execution_count": 16,
   "metadata": {},
   "outputs": [
    {
     "data": {
      "image/png": "[encoded data removed]",
      "text/plain": [
       "<Figure size 720x432 with 1 Axes>"
      ]
     },
     "metadata": {
      "needs_background": "light"
     },
     "output_type": "display_data"
    }
   ],
   "source": [
    "plt.subplots(figsize = (10,6))\n",
    "sns.barplot(file.Offense_Description.value_counts()[:5].index,file.Offense_Description.value_counts()[:5])\n",
    "plt.xticks(rotation = 90)\n",
    "plt.xlabel('Type of Assault')\n",
    "plt.ylabel('Number of Assault')\n",
    "plt.title('Crime Record in Virginia Beach 2019')\n",
    "plt.show()"
   ]
  },
  {
   "cell_type": "markdown",
   "metadata": {},
   "source": [
    "I was interested to see which crimes occured and where. I pulled out the most easily available \n",
    "shape file from the City of Virginia Beach GIS center. Link to GIS database: https://data-vbgov.opendata.arcgis.com/\n",
    "\n",
    "In order to visualize the location and load those maps, I needed to import GeoPandas and few other dependencies."
   ]
  },
  {
   "cell_type": "code",
   "execution_count": 17,
   "metadata": {},
   "outputs": [],
   "source": [
    "import descartes\n",
    "import geopandas as gpd\n",
    "from shapely.geometry import Point, polygon"
   ]
  },
  {
   "cell_type": "code",
   "execution_count": 18,
   "metadata": {},
   "outputs": [
    {
     "data": {
      "text/plain": [
       "<matplotlib.axes._subplots.AxesSubplot at 0x1a20e4c128>"
      ]
     },
     "execution_count": 18,
     "metadata": {},
     "output_type": "execute_result"
    },
    {
     "data": {
      "image/png": "[encoded data removed]",
      "text/plain": [
       "<Figure size 504x504 with 1 Axes>"
      ]
     },
     "metadata": {
      "needs_background": "light"
     },
     "output_type": "display_data"
    }
   ],
   "source": [
    "#Let's look at the shape files for VB.\n",
    "\n",
    "map = gpd.read_file('./City_Boundary/City_Boundary.shp')\n",
    "figure,ax = plt.subplots(figsize = [7,7])\n",
    "map.plot(ax=ax)"
   ]
  },
  {
   "cell_type": "code",
   "execution_count": 19,
   "metadata": {},
   "outputs": [],
   "source": [
    "#Let's focus on latitudes and longitudes.\n",
    "\n",
    "geometry = [Point(xy) for xy in zip(file[\"lon\"], file[\"lat\"])]\n",
    "geometry[:3]\n",
    "crs = {'init': 'epsg:4326'}"
   ]
  },
  {
   "cell_type": "code",
   "execution_count": 20,
   "metadata": {},
   "outputs": [
    {
     "data": {
      "text/html": [
       "<div>\n",
       "<style scoped>\n",
       "    .dataframe tbody tr th:only-of-type {\n",
       "        vertical-align: middle;\n",
       "    }\n",
       "\n",
       "    .dataframe tbody tr th {\n",
       "        vertical-align: top;\n",
       "    }\n",
       "\n",
       "    .dataframe thead th {\n",
       "        text-align: right;\n",
       "    }\n",
       "</style>\n",
       "<table border=\"1\" class=\"dataframe\">\n",
       "  <thead>\n",
       "    <tr style=\"text-align: right;\">\n",
       "      <th></th>\n",
       "      <th>Unnamed: 0</th>\n",
       "      <th>Police Case Number</th>\n",
       "      <th>Date_Reported</th>\n",
       "      <th>Year</th>\n",
       "      <th>Month</th>\n",
       "      <th>Day</th>\n",
       "      <th>Date Occured</th>\n",
       "      <th>Date Found</th>\n",
       "      <th>Offense Code</th>\n",
       "      <th>Offense_Description</th>\n",
       "      <th>Subdivision</th>\n",
       "      <th>Zone ID</th>\n",
       "      <th>Case Status</th>\n",
       "      <th>Location</th>\n",
       "      <th>lat</th>\n",
       "      <th>lon</th>\n",
       "      <th>geometry</th>\n",
       "    </tr>\n",
       "  </thead>\n",
       "  <tbody>\n",
       "    <tr>\n",
       "      <th>1</th>\n",
       "      <td>99283</td>\n",
       "      <td>2019019440</td>\n",
       "      <td>05/28/2019 6:25:00 PM</td>\n",
       "      <td>2019</td>\n",
       "      <td>5</td>\n",
       "      <td>28</td>\n",
       "      <td>05/28/2019 6:25:00 PM</td>\n",
       "      <td>05/28/2019 6:25:00 PM</td>\n",
       "      <td>90ZK</td>\n",
       "      <td>OVERDOSE</td>\n",
       "      <td>BAYSIDE BOROUGH</td>\n",
       "      <td>328.0</td>\n",
       "      <td>OTHER</td>\n",
       "      <td>WITCHDUCK RD N/INDEPENDENCE BL\\nVIRGINIA BEACH...</td>\n",
       "      <td>36.876148</td>\n",
       "      <td>-76.133802</td>\n",
       "      <td>POINT (-76.1338023 36.8761481)</td>\n",
       "    </tr>\n",
       "    <tr>\n",
       "      <th>14</th>\n",
       "      <td>102708</td>\n",
       "      <td>2019018125</td>\n",
       "      <td>05/19/2019 11:00:00 PM</td>\n",
       "      <td>2019</td>\n",
       "      <td>5</td>\n",
       "      <td>19</td>\n",
       "      <td>05/19/2019 8:10:00 PM</td>\n",
       "      <td>05/19/2019 8:10:00 PM</td>\n",
       "      <td>13B1</td>\n",
       "      <td>ASSAULT, SIMPLE</td>\n",
       "      <td>LANDSTOWN AREA</td>\n",
       "      <td>424.0</td>\n",
       "      <td>CLEARED BY ARREST</td>\n",
       "      <td>SALEM RD/INDEPENDENCE BL S\\nVIRGINIA BEACH, VA</td>\n",
       "      <td>36.780839</td>\n",
       "      <td>-76.121746</td>\n",
       "      <td>POINT (-76.12174570000001 36.7808386)</td>\n",
       "    </tr>\n",
       "    <tr>\n",
       "      <th>15</th>\n",
       "      <td>102709</td>\n",
       "      <td>2019018125</td>\n",
       "      <td>05/19/2019 11:00:00 PM</td>\n",
       "      <td>2019</td>\n",
       "      <td>5</td>\n",
       "      <td>19</td>\n",
       "      <td>05/19/2019 8:10:00 PM</td>\n",
       "      <td>05/19/2019 8:10:00 PM</td>\n",
       "      <td>13B1</td>\n",
       "      <td>ASSAULT, SIMPLE</td>\n",
       "      <td>LANDSTOWN AREA</td>\n",
       "      <td>424.0</td>\n",
       "      <td>CLEARED BY ARREST</td>\n",
       "      <td>SALEM RD/INDEPENDENCE BL S\\nVIRGINIA BEACH, VA</td>\n",
       "      <td>36.780839</td>\n",
       "      <td>-76.121746</td>\n",
       "      <td>POINT (-76.12174570000001 36.7808386)</td>\n",
       "    </tr>\n",
       "    <tr>\n",
       "      <th>16</th>\n",
       "      <td>102710</td>\n",
       "      <td>2019018125</td>\n",
       "      <td>05/19/2019 11:00:00 PM</td>\n",
       "      <td>2019</td>\n",
       "      <td>5</td>\n",
       "      <td>19</td>\n",
       "      <td>05/19/2019 8:10:00 PM</td>\n",
       "      <td>05/19/2019 8:10:00 PM</td>\n",
       "      <td>13B1</td>\n",
       "      <td>ASSAULT, SIMPLE</td>\n",
       "      <td>LANDSTOWN AREA</td>\n",
       "      <td>424.0</td>\n",
       "      <td>CLEARED BY ARREST</td>\n",
       "      <td>SALEM RD/INDEPENDENCE BL S\\nVIRGINIA BEACH, VA</td>\n",
       "      <td>36.780839</td>\n",
       "      <td>-76.121746</td>\n",
       "      <td>POINT (-76.12174570000001 36.7808386)</td>\n",
       "    </tr>\n",
       "    <tr>\n",
       "      <th>17</th>\n",
       "      <td>102714</td>\n",
       "      <td>2019018125</td>\n",
       "      <td>05/19/2019 11:00:00 PM</td>\n",
       "      <td>2019</td>\n",
       "      <td>5</td>\n",
       "      <td>19</td>\n",
       "      <td>05/19/2019 8:10:00 PM</td>\n",
       "      <td>05/19/2019 8:10:00 PM</td>\n",
       "      <td>290B</td>\n",
       "      <td>DESTRUCTION OF PROPERTY, PRIVATE PROPERTY</td>\n",
       "      <td>LANDSTOWN AREA</td>\n",
       "      <td>424.0</td>\n",
       "      <td>CLEARED BY ARREST</td>\n",
       "      <td>SALEM RD/INDEPENDENCE BL S\\nVIRGINIA BEACH, VA</td>\n",
       "      <td>36.780839</td>\n",
       "      <td>-76.121746</td>\n",
       "      <td>POINT (-76.12174570000001 36.7808386)</td>\n",
       "    </tr>\n",
       "  </tbody>\n",
       "</table>\n",
       "</div>"
      ],
      "text/plain": [
       "    Unnamed: 0  Police Case Number           Date_Reported  Year  Month  Day  \\\n",
       "1        99283          2019019440   05/28/2019 6:25:00 PM  2019      5   28   \n",
       "14      102708          2019018125  05/19/2019 11:00:00 PM  2019      5   19   \n",
       "15      102709          2019018125  05/19/2019 11:00:00 PM  2019      5   19   \n",
       "16      102710          2019018125  05/19/2019 11:00:00 PM  2019      5   19   \n",
       "17      102714          2019018125  05/19/2019 11:00:00 PM  2019      5   19   \n",
       "\n",
       "             Date Occured             Date Found Offense Code  \\\n",
       "1   05/28/2019 6:25:00 PM  05/28/2019 6:25:00 PM         90ZK   \n",
       "14  05/19/2019 8:10:00 PM  05/19/2019 8:10:00 PM         13B1   \n",
       "15  05/19/2019 8:10:00 PM  05/19/2019 8:10:00 PM         13B1   \n",
       "16  05/19/2019 8:10:00 PM  05/19/2019 8:10:00 PM         13B1   \n",
       "17  05/19/2019 8:10:00 PM  05/19/2019 8:10:00 PM         290B   \n",
       "\n",
       "                          Offense_Description      Subdivision  Zone ID  \\\n",
       "1                                    OVERDOSE  BAYSIDE BOROUGH    328.0   \n",
       "14                            ASSAULT, SIMPLE   LANDSTOWN AREA    424.0   \n",
       "15                            ASSAULT, SIMPLE   LANDSTOWN AREA    424.0   \n",
       "16                            ASSAULT, SIMPLE   LANDSTOWN AREA    424.0   \n",
       "17  DESTRUCTION OF PROPERTY, PRIVATE PROPERTY   LANDSTOWN AREA    424.0   \n",
       "\n",
       "          Case Status                                           Location  \\\n",
       "1               OTHER  WITCHDUCK RD N/INDEPENDENCE BL\\nVIRGINIA BEACH...   \n",
       "14  CLEARED BY ARREST     SALEM RD/INDEPENDENCE BL S\\nVIRGINIA BEACH, VA   \n",
       "15  CLEARED BY ARREST     SALEM RD/INDEPENDENCE BL S\\nVIRGINIA BEACH, VA   \n",
       "16  CLEARED BY ARREST     SALEM RD/INDEPENDENCE BL S\\nVIRGINIA BEACH, VA   \n",
       "17  CLEARED BY ARREST     SALEM RD/INDEPENDENCE BL S\\nVIRGINIA BEACH, VA   \n",
       "\n",
       "          lat        lon                               geometry  \n",
       "1   36.876148 -76.133802         POINT (-76.1338023 36.8761481)  \n",
       "14  36.780839 -76.121746  POINT (-76.12174570000001 36.7808386)  \n",
       "15  36.780839 -76.121746  POINT (-76.12174570000001 36.7808386)  \n",
       "16  36.780839 -76.121746  POINT (-76.12174570000001 36.7808386)  \n",
       "17  36.780839 -76.121746  POINT (-76.12174570000001 36.7808386)  "
      ]
     },
     "execution_count": 20,
     "metadata": {},
     "output_type": "execute_result"
    }
   ],
   "source": [
    "geo_df = gpd.GeoDataFrame(file,crs=crs,geometry=geometry)\n",
    "geo_df.head()"
   ]
  },
  {
   "cell_type": "code",
   "execution_count": 21,
   "metadata": {},
   "outputs": [
    {
     "data": {
      "text/plain": [
       "<matplotlib.legend.Legend at 0x1a21200f98>"
      ]
     },
     "execution_count": 21,
     "metadata": {},
     "output_type": "execute_result"
    },
    {
     "data": {
      "image/png": "[encoded data removed]",
      "text/plain": [
       "<Figure size 504x504 with 1 Axes>"
      ]
     },
     "metadata": {
      "needs_background": "light"
     },
     "output_type": "display_data"
    }
   ],
   "source": [
    "# From the,\"Offense_Description\" column I can choose to map any of the category names. I can have them\n",
    "# layover the map/shape file we found. I have chose 'ASSAULT, SIMPLE' but you can change that to any other\n",
    "# category and have it layover the \n",
    "\n",
    "fig,ax = plt.subplots(figsize = [7,7])\n",
    "map.plot(ax=ax, alpha=0.4, color='grey')\n",
    "geo_df[geo_df['Offense_Description'] == 'ASSAULT, SIMPLE'].plot(ax=ax, markersize=10, color='blue',marker='o',label='OD')\n",
    "plt.legend(prop={'size': 6})"
   ]
  },
  {
   "cell_type": "markdown",
   "metadata": {},
   "source": [
    "At the beginning of this mini project I asked a few questions to which I hoped to seek answers. With \n",
    "these few techniques. I did get answers to my questions\n",
    "\n",
    "1. What are the different types of crimes reported?\n",
    "- There are 129 different types of crimes reported in City of Virginia Beach.\n",
    "\n",
    "2. How many instances of these crimes are reported?\n",
    "- There were 10974 instances of LARCENY, FROM MOTOR VEHICLE. This was the highest reported crime from last 4 years.\n",
    "\n",
    "3. Has the crime rate increased, decreased, or stablized over a period of time?\n",
    "- The crime rate has fallen from 2016 - 2018. We'll have to trust our Law and Enforcement agencies to keep it low for the year of 2019.\n",
    "\n",
    "4. How many crimes were commited in 2019?\n",
    "- 15270 cases were reported in 2019.\n",
    "\n",
    "5. What month showcase the highest instance of crime rate?\n",
    "- For the year 2019, May has the highest instance of crime rate.\n",
    "\n",
    "6. Lastly, which area or neighbourhood is most affected by crime?\n",
    "- With the shape files available, this question remained unanswered.\n",
    "\n",
    "\n",
    "Simple bar graphs can say a lot about data. Again this was a small afternoon project. I learned something new about GeoPandas, Open data GIS, and Google's GeoCode. I am going to write about Google's Geocode and using it with Microsoft Excel in a blog post. I found it really fascinating, there would be better/faster way to get Latitude's and Longitudes but the goal at the end of the day is to learn something new everyday."
   ]
  }
 ],
 "metadata": {
  "kernelspec": {
   "display_name": "Python 3",
   "language": "python",
   "name": "python3"
  },
  "language_info": {
   "codemirror_mode": {
    "name": "ipython",
    "version": 3
   },
   "file_extension": ".py",
   "mimetype": "text/x-python",
   "name": "python",
   "nbconvert_exporter": "python",
   "pygments_lexer": "ipython3",
   "version": "3.7.3"
  }
 },
 "nbformat": 4,
 "nbformat_minor": 2
}
